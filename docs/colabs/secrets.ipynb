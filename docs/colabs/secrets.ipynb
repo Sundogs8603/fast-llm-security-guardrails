{
  "cells": [
    {
      "cell_type": "markdown",
      "metadata": {
        "colab_type": "text",
        "id": "view-in-github"
      },
      "source": [
        "<a href=\"https://colab.research.google.com/github/ZenGuard-AI/fast-llm-security-guardrails/blob/main/docs/colabs/secrets.ipynb\" target=\"_parent\"><img src=\"https://colab.research.google.com/assets/colab-badge.svg\" alt=\"Open In Colab\"/></a>"
      ]
    },
    {
      "cell_type": "markdown",
      "metadata": {
        "id": "ouO2X6oz9uNR"
      },
      "source": [
        "# ZenGuard AI: Quickstart"
      ]
    },
    {
      "cell_type": "markdown",
      "metadata": {
        "id": "OiMYRN6X-VzA"
      },
      "source": [
        "## Intro\n",
        "\n",
        "The ZenGuard AI provides ultrafast guardrails to protect your GenAI application from:\n",
        "\n",
        "* Prompt Attacks\n",
        "* Veering off pre-defined topics\n",
        "* PII, sensitive info, and keywords leakage\n",
        "* Toxicity\n",
        "* Etc.\n",
        "\n",
        "Please, also check out our [open-source Python Client](https://github.com/ZenGuard-AI/fast-llm-security-guardrails?tab=readme-ov-file) for more inspiration.\n",
        "\n",
        "Here is our main website - https://www.zenguard.ai/\n",
        "\n",
        "More [Docs](https://docs.zenguard.ai/start/intro/)"
      ]
    },
    {
      "cell_type": "markdown",
      "metadata": {
        "id": "installation"
      },
      "source": [
        "## Installation\n",
        "\n",
        "Using pip:"
      ]
    },
    {
      "cell_type": "code",
      "execution_count": null,
      "metadata": {
        "id": "rt-akQwe7u5j"
      },
      "outputs": [],
      "source": [
        "!pip install zenguard -U"
      ]
    },
    {
      "cell_type": "markdown",
      "metadata": {
        "id": "prerequisites"
      },
      "source": [
        "## Prerequisites\n",
        "\n",
        "Configure an API key:\n",
        "1. Navigate to the [Settings](https://console.zenguard.ai/settings)\n",
        "2. Click on the **+ Create new secret key**.\n",
        "3. Name the key **Quickstart Key**.\n",
        "4. Click on the **Add** button.\n",
        "5. Copy the key value by pressing the copy icon.\n",
        "\n",
        "Configure Secrets Detection settings:\n",
        "1. Navigate to the [Policy](https://console.zenguard.ai/policy)\n",
        "2. In API key tabs select **Quickstart Key**.\n",
        "3. Scroll down to **Secrets** section\n",
        "4. To enable **Secrets Detection** toggle toggler to on state"
      ]
    },
    {
      "cell_type": "markdown",
      "metadata": {
        "id": "code-usage"
      },
      "source": [
        "## Code Usage\n",
        "\n",
        "Instantiate the ZenGuard AI client with the API Key:"
      ]
    },
    {
      "cell_type": "markdown",
      "metadata": {
        "id": "api-key"
      },
      "source": [
        "Paste your API key into the env variable **ZEN_API_KEY**:"
      ]
    },
    {
      "cell_type": "code",
      "execution_count": null,
      "metadata": {
        "id": "set-env"
      },
      "outputs": [],
      "source": [
        "%set_env ZEN_API_KEY=YOUR_API_KEY"
      ]
    },
    {
      "cell_type": "code",
      "execution_count": null,
      "metadata": {
        "id": "zenguard-init"
      },
      "outputs": [],
      "source": [
        "from zenguard import Credentials, Detector, ZenGuard, ZenGuardConfig\n",
        "import os\n",
        "from pprint import pprint\n",
        "\n",
        "config = ZenGuardConfig(credentials=Credentials(api_key=os.environ.get(\"ZEN_API_KEY\")))\n",
        "zenguard = ZenGuard(config=config)\n"
      ]
    },
    {
      "cell_type": "markdown",
      "metadata": {
        "id": "detect-injection"
      },
      "source": [
        "## Detect Secrets"
      ]
    },
    {
      "cell_type": "code",
      "execution_count": null,
      "metadata": {
        "id": "prompt-injection-detection"
      },
      "outputs": [],
      "source": [
        "message = "Just use 7Jjs7ytGUkOicKStFSYDT3BlbkFJQld0UnUOFyRpt7kE2ERn to send the message to LLM\"\n",
        "response = zenguard.detect(detectors=[Detector.SECRETS], prompt=message)\n",
        "if response.get(\"is_detected\") is True:\n",
        "    pprint(\"Secrets detected. ZenGuard: 1, big brother: 0.\")\n",
        "else:\n",
        "    pprint(\"No Secrets detected: your secrets is safe to feed into any LLM.\")\n",
        "pprint(response)"
      ]
    },
    {
      "cell_type": "markdown",
      "metadata": {},
      "source": [
        "* `is_detected(boolean)`: Indicates whether a secrets was detected in the provided message. In this example, it is False.\n",
        "* `score(float: 0.0 - 1.0)`: A score representing the likelihood of the detected secrets. In this example, it is 0.0.\n",
        "* `sanitized_message(string or null)`: For the secrets detector this field is null.\n",
        "* `latency(float)`: Server-side latency of the request.\n",
        "\n",
        "**Error Codes:**\n",
        "\n",
        "* `401 Unauthorized`: API key is missing or invalid.\n",
        "* `400 Bad Request`: The request body is malformed.\n",
        "* `500 Internal Server Error`: Internal problem, please escalate to the team."
      ]
    },
    {
      "cell_type": "markdown",
      "metadata": {},
      "source": [
        "## More examples\n",
        "\n",
        " * [Detect PII](https://docs.zenguard.ai/detectors/pii/)\n",
        " * [Detect Allowed Topics](https://docs.zenguard.ai/detectors/allowed-topics/)\n",
        " * [Detect Banned Topics](https://docs.zenguard.ai/detectors/banned-topics/)\n",
        " * [Detect Keywords](https://docs.zenguard.ai/detectors/keywords/)\n",
        " * [Detect Secrets](https://docs.zenguard.ai/detectors/secrets/)\n",
        " * [Detect Toxicity](https://docs.zenguard.ai/detectors/toxicity/)"
      ]
    }
  ],
  "metadata": {
    "colab": {
      "provenance": [],
      "toc_visible": true
    },
    "kernelspec": {
      "display_name": "Python 3",
      "name": "python3"
    },
    "language_info": {
      "name": "python"
    }
  },
  "nbformat": 4,
  "nbformat_minor": 0
}
